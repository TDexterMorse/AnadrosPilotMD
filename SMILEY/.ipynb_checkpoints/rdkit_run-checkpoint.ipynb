{
 "cells": [
  {
   "cell_type": "code",
   "execution_count": 45,
   "id": "43a6552f-bf1d-429a-a0e0-25e53b937f55",
   "metadata": {},
   "outputs": [],
   "source": [
    "from rdkit import Chem\n",
    "from rdkit.Chem import AllChem, DataStructs\n",
    "from rdkit.Chem import Draw\n"
   ]
  },
  {
   "cell_type": "code",
   "execution_count": 74,
   "id": "db9cef7a-7391-459c-8ca6-e8c61f441e92",
   "metadata": {},
   "outputs": [],
   "source": [
    "m = Chem.MolFromSmiles('O=C(C(C1CCCCC1)=C/2)C=C(C)C2=N/OS(=O)(C3=CC=CC=C3)=O')\n",
    "#https://www.medchemexpress.com/ml233.html"
   ]
  },
  {
   "cell_type": "code",
   "execution_count": 75,
   "id": "1f3b7dd0-34f9-4d53-93f3-370630bbe105",
   "metadata": {},
   "outputs": [
    {
     "data": {
      "image/png": "[encoded data removed]",
      "text/plain": [
       "<rdkit.Chem.rdchem.Mol at 0x12eb7c660>"
      ]
     },
     "execution_count": 75,
     "metadata": {},
     "output_type": "execute_result"
    }
   ],
   "source": [
    "m"
   ]
  },
  {
   "cell_type": "code",
   "execution_count": 19,
   "id": "0872420d-2f49-4fb0-9d40-f3ffc564e00d",
   "metadata": {},
   "outputs": [
    {
     "name": "stdout",
     "output_type": "stream",
     "text": [
      "ML233\n",
      "     RDKit          2D\n",
      "\n",
      " 25 27  0  0  0  0  0  0  0  0999 V2000\n",
      "    3.0000    0.0000    0.0000 O   0  0  0  0  0  0  0  0  0  0  0  0\n",
      "    1.5000    0.0000    0.0000 C   0  0  0  0  0  0  0  0  0  0  0  0\n",
      "    0.7500   -1.2990    0.0000 C   0  0  0  0  0  0  0  0  0  0  0  0\n",
      "    1.5000   -2.5981    0.0000 C   0  0  0  0  0  0  0  0  0  0  0  0\n",
      "    0.7500   -3.8971    0.0000 C   0  0  0  0  0  0  0  0  0  0  0  0\n",
      "    1.5000   -5.1962    0.0000 C   0  0  0  0  0  0  0  0  0  0  0  0\n",
      "    3.0000   -5.1962    0.0000 C   0  0  0  0  0  0  0  0  0  0  0  0\n",
      "    3.7500   -3.8971    0.0000 C   0  0  0  0  0  0  0  0  0  0  0  0\n",
      "    3.0000   -2.5981    0.0000 C   0  0  0  0  0  0  0  0  0  0  0  0\n",
      "   -0.7500   -1.2990    0.0000 C   0  0  0  0  0  0  0  0  0  0  0  0\n",
      "    0.7500    1.2990    0.0000 C   0  0  0  0  0  0  0  0  0  0  0  0\n",
      "   -0.7500    1.2990    0.0000 C   0  0  0  0  0  0  0  0  0  0  0  0\n",
      "   -1.5000    2.5981    0.0000 C   0  0  0  0  0  0  0  0  0  0  0  0\n",
      "   -1.5000    0.0000    0.0000 C   0  0  0  0  0  0  0  0  0  0  0  0\n",
      "   -3.0000    0.0000    0.0000 N   0  0  0  0  0  0  0  0  0  0  0  0\n",
      "   -3.7500    1.2990    0.0000 O   0  0  0  0  0  0  0  0  0  0  0  0\n",
      "   -5.2500    1.2990    0.0000 S   0  0  0  0  0  0  0  0  0  0  0  0\n",
      "   -5.2500   -0.2010    0.0000 O   0  0  0  0  0  0  0  0  0  0  0  0\n",
      "   -6.7500    1.2990    0.0000 C   0  0  0  0  0  0  0  0  0  0  0  0\n",
      "   -7.5000    2.5981    0.0000 C   0  0  0  0  0  0  0  0  0  0  0  0\n",
      "   -9.0000    2.5981    0.0000 C   0  0  0  0  0  0  0  0  0  0  0  0\n",
      "   -9.7500    1.2990    0.0000 C   0  0  0  0  0  0  0  0  0  0  0  0\n",
      "   -9.0000    0.0000    0.0000 C   0  0  0  0  0  0  0  0  0  0  0  0\n",
      "   -7.5000    0.0000    0.0000 C   0  0  0  0  0  0  0  0  0  0  0  0\n",
      "   -5.2500    2.7990    0.0000 O   0  0  0  0  0  0  0  0  0  0  0  0\n",
      "  1  2  2  0\n",
      "  2  3  1  0\n",
      "  3  4  1  0\n",
      "  4  5  1  0\n",
      "  5  6  1  0\n",
      "  6  7  1  0\n",
      "  7  8  1  0\n",
      "  8  9  1  0\n",
      "  3 10  2  0\n",
      "  2 11  1  0\n",
      " 11 12  2  0\n",
      " 12 13  1  0\n",
      " 12 14  1  0\n",
      " 14 15  2  0\n",
      " 15 16  1  0\n",
      " 16 17  1  0\n",
      " 17 18  2  0\n",
      " 17 19  1  0\n",
      " 19 20  2  0\n",
      " 20 21  1  0\n",
      " 21 22  2  0\n",
      " 22 23  1  0\n",
      " 23 24  2  0\n",
      " 17 25  2  0\n",
      "  9  4  1  0\n",
      " 14 10  1  0\n",
      " 24 19  1  0\n",
      "M  END\n",
      "\n"
     ]
    }
   ],
   "source": [
    "#Mol Block\n",
    "m2.SetProp(\"_Name\",\"ML233\")\n",
    "print(Chem.MolToMolBlock(m))"
   ]
  },
  {
   "cell_type": "code",
   "execution_count": 20,
   "id": "9324c771-f162-4656-89e2-26f90d292551",
   "metadata": {},
   "outputs": [
    {
     "name": "stdout",
     "output_type": "stream",
     "text": [
      "ML233\n",
      "     RDKit          3D\n",
      "\n",
      " 46 48  0  0  0  0  0  0  0  0999 V2000\n",
      "   -3.4746   -2.0020    2.1226 O   0  0  0  0  0  0  0  0  0  0  0  0\n",
      "   -2.3153   -1.7399    1.7511 C   0  0  0  0  0  0  0  0  0  0  0  0\n",
      "   -2.1788   -0.9617    0.5251 C   0  0  0  0  0  0  0  0  0  0  0  0\n",
      "   -3.3333   -0.5168   -0.2184 C   0  0  0  0  0  0  0  0  0  0  0  0\n",
      "   -2.8653    0.2292   -1.4686 C   0  0  0  0  0  0  0  0  0  0  0  0\n",
      "   -4.0633    0.7488   -2.2463 C   0  0  0  0  0  0  0  0  0  0  0  0\n",
      "   -4.7469    1.8027   -1.4405 C   0  0  0  0  0  0  0  0  0  0  0  0\n",
      "   -4.2751    1.8137    0.0084 C   0  0  0  0  0  0  0  0  0  0  0  0\n",
      "   -4.2953    0.3603    0.4782 C   0  0  0  0  0  0  0  0  0  0  0  0\n",
      "   -0.9611   -0.6735    0.1144 C   0  0  0  0  0  0  0  0  0  0  0  0\n",
      "   -1.1505   -2.1929    2.5110 C   0  0  0  0  0  0  0  0  0  0  0  0\n",
      "    0.0920   -1.8958    2.0873 C   0  0  0  0  0  0  0  0  0  0  0  0\n",
      "    1.2706   -2.3453    2.8421 C   0  0  0  0  0  0  0  0  0  0  0  0\n",
      "    0.2400   -1.1184    0.8630 C   0  0  0  0  0  0  0  0  0  0  0  0\n",
      "    1.4208   -0.8236    0.4405 N   0  0  0  0  0  0  0  0  0  0  0  0\n",
      "    2.5455   -1.2215    1.1119 O   0  0  0  0  0  0  0  0  0  0  0  0\n",
      "    3.8800   -0.2544    1.4211 S   0  0  0  0  0  6  0  0  0  0  0  0\n",
      "    4.9115   -1.1205    2.1323 O   0  0  0  0  0  0  0  0  0  0  0  0\n",
      "    4.6266    0.3849    0.0025 C   0  0  0  0  0  0  0  0  0  0  0  0\n",
      "    4.1996    1.6015   -0.4870 C   0  0  0  0  0  0  0  0  0  0  0  0\n",
      "    4.7524    2.1842   -1.6273 C   0  0  0  0  0  0  0  0  0  0  0  0\n",
      "    5.7732    1.5123   -2.2959 C   0  0  0  0  0  0  0  0  0  0  0  0\n",
      "    6.2091    0.2999   -1.8204 C   0  0  0  0  0  0  0  0  0  0  0  0\n",
      "    5.6541   -0.2567   -0.6989 C   0  0  0  0  0  0  0  0  0  0  0  0\n",
      "    3.5710    0.8855    2.3574 O   0  0  0  0  0  0  0  0  0  0  0  0\n",
      "   -3.8813   -1.4200   -0.6101 H   0  0  0  0  0  0  0  0  0  0  0  0\n",
      "   -2.2953    1.1502   -1.1797 H   0  0  0  0  0  0  0  0  0  0  0  0\n",
      "   -2.2882   -0.4333   -2.1422 H   0  0  0  0  0  0  0  0  0  0  0  0\n",
      "   -3.6627    1.2027   -3.1714 H   0  0  0  0  0  0  0  0  0  0  0  0\n",
      "   -4.7344   -0.0742   -2.5662 H   0  0  0  0  0  0  0  0  0  0  0  0\n",
      "   -4.4720    2.7954   -1.8476 H   0  0  0  0  0  0  0  0  0  0  0  0\n",
      "   -5.8384    1.7189   -1.5140 H   0  0  0  0  0  0  0  0  0  0  0  0\n",
      "   -5.0543    2.3429    0.5875 H   0  0  0  0  0  0  0  0  0  0  0  0\n",
      "   -3.3173    2.3040    0.1523 H   0  0  0  0  0  0  0  0  0  0  0  0\n",
      "   -5.3232    0.0105    0.2401 H   0  0  0  0  0  0  0  0  0  0  0  0\n",
      "   -4.2353    0.3100    1.5939 H   0  0  0  0  0  0  0  0  0  0  0  0\n",
      "   -0.7470   -0.0962   -0.7936 H   0  0  0  0  0  0  0  0  0  0  0  0\n",
      "   -1.2647   -2.7729    3.4243 H   0  0  0  0  0  0  0  0  0  0  0  0\n",
      "    1.8907   -3.1025    2.3065 H   0  0  0  0  0  0  0  0  0  0  0  0\n",
      "    0.8805   -2.9266    3.7309 H   0  0  0  0  0  0  0  0  0  0  0  0\n",
      "    1.8569   -1.5306    3.3083 H   0  0  0  0  0  0  0  0  0  0  0  0\n",
      "    3.4093    2.1532    0.0047 H   0  0  0  0  0  0  0  0  0  0  0  0\n",
      "    4.4254    3.1330   -2.0164 H   0  0  0  0  0  0  0  0  0  0  0  0\n",
      "    6.2042    1.9611   -3.1803 H   0  0  0  0  0  0  0  0  0  0  0  0\n",
      "    6.9995   -0.2144   -2.3429 H   0  0  0  0  0  0  0  0  0  0  0  0\n",
      "    5.9606   -1.2111   -0.2808 H   0  0  0  0  0  0  0  0  0  0  0  0\n",
      "  1  2  2  0\n",
      "  2  3  1  0\n",
      "  3  4  1  0\n",
      "  4  5  1  0\n",
      "  5  6  1  0\n",
      "  6  7  1  0\n",
      "  7  8  1  0\n",
      "  8  9  1  0\n",
      "  3 10  2  0\n",
      "  2 11  1  0\n",
      " 11 12  2  0\n",
      " 12 13  1  0\n",
      " 12 14  1  0\n",
      " 14 15  2  0\n",
      " 15 16  1  0\n",
      " 16 17  1  0\n",
      " 17 18  2  0\n",
      " 17 19  1  0\n",
      " 19 20  2  0\n",
      " 20 21  1  0\n",
      " 21 22  2  0\n",
      " 22 23  1  0\n",
      " 23 24  2  0\n",
      " 17 25  2  0\n",
      "  9  4  1  0\n",
      " 14 10  1  0\n",
      " 24 19  1  0\n",
      "  4 26  1  0\n",
      "  5 27  1  0\n",
      "  5 28  1  0\n",
      "  6 29  1  0\n",
      "  6 30  1  0\n",
      "  7 31  1  0\n",
      "  7 32  1  0\n",
      "  8 33  1  0\n",
      "  8 34  1  0\n",
      "  9 35  1  0\n",
      "  9 36  1  0\n",
      " 10 37  1  0\n",
      " 11 38  1  0\n",
      " 13 39  1  0\n",
      " 13 40  1  0\n",
      " 13 41  1  0\n",
      " 20 42  1  0\n",
      " 21 43  1  0\n",
      " 22 44  1  0\n",
      " 23 45  1  0\n",
      " 24 46  1  0\n",
      "M  END\n",
      "\n"
     ]
    }
   ],
   "source": [
    "m2 = Chem.AddHs(m)\n",
    "AllChem.EmbedMolecule(m2, randomSeed=0xf00d)\n",
    "print(Chem.MolToMolBlock(m2))"
   ]
  },
  {
   "cell_type": "code",
   "execution_count": 77,
   "id": "3eb75af2-090c-4852-91e9-d80c0e081284",
   "metadata": {},
   "outputs": [],
   "source": [
    "print(Chem.MolToMolBlock(m2),file=open('/Users/dmorse/desktop/smallmolecule/ML233.mol2','w+'))"
   ]
  },
  {
   "cell_type": "code",
   "execution_count": 80,
   "id": "15553581-796f-4ecd-ae23-d29faf731cd4",
   "metadata": {},
   "outputs": [],
   "source": [
    "from rdkit import Chem\n",
    "from rdkit.Chem import AllChem\n",
    "\n",
    "# Define the SMILES string\n",
    "smiles = \"O=C(C(C1CCCCC1)=C/2)C=C(C)C2=N/OS(=O)(C3=CC=CC=C3)=O\"\n",
    "\n",
    "# Convert SMILES to RDKit molecule object\n",
    "mol = Chem.MolFromSmiles(smiles)\n",
    "mol = Chem.AddHs(mol)\n",
    "# Generate 3D coordinates\n",
    "AllChem.EmbedMolecule(mol)\n",
    "\n",
    "# Convert RDKit molecule to MOL2 format\n",
    "molblock = Chem.MolToMolBlock(mol)\n",
    "\n",
    "# Write MOL2 representation to a file\n",
    "with open(\"/Users/dmorse/desktop/smallmolecule/ML233.mol2\", \"w\") as f:\n",
    "    f.write(molblock)"
   ]
  },
  {
   "cell_type": "code",
   "execution_count": 76,
   "id": "adb792ae-8659-4e52-b260-5fd4fb556d1e",
   "metadata": {},
   "outputs": [
    {
     "name": "stderr",
     "output_type": "stream",
     "text": [
      "[08:58:48] Warning: ambiguous stereochemistry - linear bond arrangement - at atom 18 ignored\n",
      "[08:58:48] Warning: ambiguous stereochemistry - zero final chiral volume - at atom 11 ignored\n",
      "[08:58:48] Warning: ambiguous stereochemistry - zero final chiral volume - at atom 36 ignored\n",
      "[08:58:48] Explicit valence for atom # 13 Cl, 5, is greater than permitted\n",
      "[08:58:48] ERROR: Could not sanitize molecule ending on line 128219\n",
      "[08:58:48] ERROR: Explicit valence for atom # 13 Cl, 5, is greater than permitted\n"
     ]
    },
    {
     "name": "stdout",
     "output_type": "stream",
     "text": [
      "Error processing molecule 1693: Python argument types in\n",
      "    rdkit.Chem.rdmolops.SanitizeMol(NoneType)\n",
      "did not match C++ signature:\n",
      "    SanitizeMol(RDKit::ROMol {lvalue} mol, unsigned long long sanitizeOps=rdkit.Chem.rdmolops.SanitizeFlags.SANITIZE_ALL, bool catchErrors=False)\n",
      "Error processing molecule 2384: Python argument types in\n",
      "    rdkit.Chem.rdmolops.SanitizeMol(NoneType)\n",
      "did not match C++ signature:\n",
      "    SanitizeMol(RDKit::ROMol {lvalue} mol, unsigned long long sanitizeOps=rdkit.Chem.rdmolops.SanitizeFlags.SANITIZE_ALL, bool catchErrors=False)\n"
     ]
    },
    {
     "name": "stderr",
     "output_type": "stream",
     "text": [
      "[08:58:48] Explicit valence for atom # 19 O, 3, is greater than permitted\n",
      "[08:58:48] ERROR: Could not sanitize molecule ending on line 173327\n",
      "[08:58:48] ERROR: Explicit valence for atom # 19 O, 3, is greater than permitted\n",
      "[08:58:49] Explicit valence for atom # 15 O, 3, is greater than permitted\n",
      "[08:58:49] ERROR: Could not sanitize molecule ending on line 261592\n",
      "[08:58:49] ERROR: Explicit valence for atom # 15 O, 3, is greater than permitted\n"
     ]
    },
    {
     "name": "stdout",
     "output_type": "stream",
     "text": [
      "Error processing molecule 3719: Python argument types in\n",
      "    rdkit.Chem.rdmolops.SanitizeMol(NoneType)\n",
      "did not match C++ signature:\n",
      "    SanitizeMol(RDKit::ROMol {lvalue} mol, unsigned long long sanitizeOps=rdkit.Chem.rdmolops.SanitizeFlags.SANITIZE_ALL, bool catchErrors=False)\n"
     ]
    },
    {
     "name": "stderr",
     "output_type": "stream",
     "text": [
      "[08:58:49] Warning: ambiguous stereochemistry - overlapping neighbors  - at atom 16 ignored\n",
      "[08:58:49] Warning: ambiguous stereochemistry - opposing bonds have opposite wedging - at atom 20 ignored.\n",
      "[08:58:49] Warning: ambiguous stereochemistry - opposing bonds have opposite wedging - at atom 20 ignored.\n",
      "[08:58:49] Explicit valence for atom # 0 Be, 3, is greater than permitted\n",
      "[08:58:49] ERROR: Could not sanitize molecule ending on line 468591\n",
      "[08:58:49] ERROR: Explicit valence for atom # 0 Be, 3, is greater than permitted\n",
      "[08:58:49] Warning: ambiguous stereochemistry - opposing bonds have opposite wedging - at atom 20 ignored.\n",
      "[08:58:49] Warning: ambiguous stereochemistry - opposing bonds have opposite wedging - at atom 20 ignored.\n",
      "[08:58:49] Explicit valence for atom # 28 N, 4, is greater than permitted\n",
      "[08:58:49] ERROR: Could not sanitize molecule ending on line 534062\n",
      "[08:58:49] ERROR: Explicit valence for atom # 28 N, 4, is greater than permitted\n"
     ]
    },
    {
     "name": "stdout",
     "output_type": "stream",
     "text": [
      "Error processing molecule 6590: Python argument types in\n",
      "    rdkit.Chem.rdmolops.SanitizeMol(NoneType)\n",
      "did not match C++ signature:\n",
      "    SanitizeMol(RDKit::ROMol {lvalue} mol, unsigned long long sanitizeOps=rdkit.Chem.rdmolops.SanitizeFlags.SANITIZE_ALL, bool catchErrors=False)\n",
      "Error processing molecule 7541: Python argument types in\n",
      "    rdkit.Chem.rdmolops.SanitizeMol(NoneType)\n",
      "did not match C++ signature:\n",
      "    SanitizeMol(RDKit::ROMol {lvalue} mol, unsigned long long sanitizeOps=rdkit.Chem.rdmolops.SanitizeFlags.SANITIZE_ALL, bool catchErrors=False)\n"
     ]
    },
    {
     "name": "stderr",
     "output_type": "stream",
     "text": [
      "[08:58:49] Explicit valence for atom # 1 Cl, 4, is greater than permitted\n",
      "[08:58:49] ERROR: Could not sanitize molecule ending on line 623469\n",
      "[08:58:49] ERROR: Explicit valence for atom # 1 Cl, 4, is greater than permitted\n"
     ]
    },
    {
     "name": "stdout",
     "output_type": "stream",
     "text": [
      "Error processing molecule 8634: Python argument types in\n",
      "    rdkit.Chem.rdmolops.SanitizeMol(NoneType)\n",
      "did not match C++ signature:\n",
      "    SanitizeMol(RDKit::ROMol {lvalue} mol, unsigned long long sanitizeOps=rdkit.Chem.rdmolops.SanitizeFlags.SANITIZE_ALL, bool catchErrors=False)\n"
     ]
    },
    {
     "name": "stderr",
     "output_type": "stream",
     "text": [
      "[08:58:50] Warning: ambiguous stereochemistry - linear bond arrangement - at atom 41 ignored\n",
      "[08:58:50] Warning: ambiguous stereochemistry - linear bond arrangement - at atom 77 ignored\n",
      "[08:58:50] Warning: ambiguous stereochemistry - zero final chiral volume - at atom 85 ignored\n",
      "[08:58:50] Warning: ambiguous stereochemistry - zero final chiral volume - at atom 114 ignored\n",
      "[08:58:50] WARNING: not removing hydrogen atom without neighbors\n",
      "[08:58:50] WARNING: not removing hydrogen atom without neighbors\n",
      "[08:58:50] WARNING: could not find number of expected rings. Switching to an approximate ring finding algorithm.\n",
      "[08:58:50] Explicit valence for atom # 0 B, 5, is greater than permitted\n",
      "[08:58:50] ERROR: Could not sanitize molecule ending on line 861352\n",
      "[08:58:50] ERROR: Explicit valence for atom # 0 B, 5, is greater than permitted\n"
     ]
    },
    {
     "name": "stdout",
     "output_type": "stream",
     "text": [
      "Error processing molecule 11588: Python argument types in\n",
      "    rdkit.Chem.rdmolops.SanitizeMol(NoneType)\n",
      "did not match C++ signature:\n",
      "    SanitizeMol(RDKit::ROMol {lvalue} mol, unsigned long long sanitizeOps=rdkit.Chem.rdmolops.SanitizeFlags.SANITIZE_ALL, bool catchErrors=False)\n",
      "Similar molecules found for query molecule 'O=C(C(C1CCCCC1)=C/2)C=C(C)C2=N/OS(=O)(C3=CC=CC=C3)=O':\n",
      "Similarity: 0.30, SMILES: CC1=CC(=O)c2ccccc2C1=O\n",
      "Similarity: 0.31, SMILES: CN1CCC[C@@H]1Cc1c[nH]c2ccc(CCS(=O)(=O)c3ccccc3)cc12\n",
      "Similarity: 0.33, SMILES: CC(CNC1CCCCC1)OC(=O)c1ccccc1\n",
      "Similarity: 0.33, SMILES: O=c1oc2c(c(O)c1[C@H](c1cccc(NS(=O)(=O)c3ccccc3)c1)C1CC1)CCCCCC2\n",
      "Similarity: 0.31, SMILES: NS(=O)(=O)c1cc(C(=O)O)cc(N2CCCC2)c1Oc1ccccc1\n",
      "Similarity: 0.31, SMILES: Cc1ccc(-n2cc(CNCC3CCCCC3)c3ccccc32)cc1\n",
      "Similarity: 0.31, SMILES: c1ccc(Nc2nc(OCC3CCCCC3)c3[nH]cnc3n2)cc1\n",
      "Similarity: 0.30, SMILES: NS(=O)(=O)Oc1ccc2c(c1)S(=O)(=O)C(CC1CCCCCC1)=C2\n",
      "Similarity: 0.30, SMILES: O=C(O)c1ccccc1NC1CCCCC1\n",
      "Similarity: 0.32, SMILES: O=C(Nc1ccccc1)[C@H]1CC(=O)N(C2CCCCC2)C1\n",
      "Similarity: 0.31, SMILES: Cc1ccc(NS(=O)(=O)c2ccccc2)c(C(=O)O)c1\n",
      "Similarity: 0.35, SMILES: O=C(O)c1c(NS(=O)(=O)c2ccccc2)ccc2c1CCCC2\n",
      "Similarity: 0.30, SMILES: O=C(O)c1ccc2c(C3CCCCC3)c(-c3ccccc3)n(CC(=O)N3CCOCC3)c2c1\n",
      "Similarity: 0.32, SMILES: CN1C(=O)C(=O)c2cc(S(=O)(=O)N3CCC[C@H]3COc3ccccc3)ccc21\n",
      "Similarity: 0.30, SMILES: CN(C(=O)CCN1Cc2cc(C(=O)c3ccccc3)ccc2N=C1N)C1CCCCC1\n",
      "Similarity: 0.32, SMILES: CCC1(c2ccccc2)C(=O)NC(=O)NC1=O.CN[C@@H](C)CC1CCCCC1\n",
      "Similarity: 0.32, SMILES: Cc1ccc(S(=O)(=O)NC(=O)NC2CCCCC2)cc1N\n",
      "Similarity: 0.30, SMILES: CS(=O)(=O)Nc1ccc([N+](=O)[O-])cc1OC1CCCCC1\n",
      "Similarity: 0.32, SMILES: c1ccc(Nc2ccc(NC3CCCCC3)cc2)cc1\n",
      "Similarity: 0.31, SMILES: Cc1nc2c(N3CCNCC3)cccc2n1S(=O)(=O)c1ccccc1\n",
      "Similarity: 0.32, SMILES: CCOC(=O)c1cnc(NC2CCCCC2)c(NCc2ccccc2)c1\n"
     ]
    }
   ],
   "source": [
    "#https://medium.com/gsi-technology/rdkit-for-newbies-3697e617521f\n",
    "# Define a function for performing similarity search\n",
    "def similarity_search(query_mol, database, threshold=0.3):\n",
    "    similar_molecules = []\n",
    "    query_fp = AllChem.GetMorganFingerprint(query_mol, 2)\n",
    "\n",
    "    for i, mol in enumerate(database):\n",
    "        try:\n",
    "            # Clean and sanitize the molecule\n",
    "            Chem.SanitizeMol(mol)\n",
    "            fp = AllChem.GetMorganFingerprint(mol, 2)\n",
    "            similarity = DataStructs.TanimotoSimilarity(query_fp, fp)\n",
    "            if similarity >= threshold:\n",
    "                similar_molecules.append((mol, similarity))\n",
    "        except Exception as e:\n",
    "            print(f\"Error processing molecule {i}: {e}\")\n",
    "\n",
    "    return similar_molecules\n",
    "\n",
    "# Load your database of molecules\n",
    "suppl = Chem.SDMolSupplier('/Users/dmorse/desktop/smallmolecule/openstructures.sdf')\n",
    "\n",
    "# Define your query molecule\n",
    "query_smiles = 'O=C(C(C1CCCCC1)=C/2)C=C(C)C2=N/OS(=O)(C3=CC=CC=C3)=O'\n",
    "query_mol = Chem.MolFromSmiles(query_smiles)\n",
    "\n",
    "# Perform similarity search\n",
    "similar_molecules = similarity_search(query_mol, suppl)\n",
    "\n",
    "# Print out the results\n",
    "print(f\"Similar molecules found for query molecule '{query_smiles}':\")\n",
    "for mol, similarity in similar_molecules:\n",
    "    print(f\"Similarity: {similarity:.2f}, SMILES: {Chem.MolToSmiles(mol)}\")\n",
    "    mol\n",
    "    #print(Chem.MolToMolBlock(m))\n",
    "    #Draw.MolToImage(mol).show()"
   ]
  },
  {
   "cell_type": "code",
   "execution_count": null,
   "id": "734324e1-13c2-41e6-b815-e9b8392cd563",
   "metadata": {},
   "outputs": [],
   "source": []
  },
  {
   "cell_type": "code",
   "execution_count": null,
   "id": "effacfe2-bf89-4b49-bfc7-e7fbca4fe986",
   "metadata": {},
   "outputs": [],
   "source": []
  },
  {
   "cell_type": "code",
   "execution_count": null,
   "id": "c678b034-7592-4959-a6b6-1ed511b6da25",
   "metadata": {},
   "outputs": [],
   "source": []
  },
  {
   "cell_type": "code",
   "execution_count": null,
   "id": "ee7fa1ca-25fb-4319-b783-721ebd99f3b6",
   "metadata": {},
   "outputs": [],
   "source": []
  },
  {
   "cell_type": "code",
   "execution_count": null,
   "id": "3c2bef60-4898-4791-98a0-8f182c4811ef",
   "metadata": {},
   "outputs": [],
   "source": []
  }
 ],
 "metadata": {
  "kernelspec": {
   "display_name": "Python 3 (ipykernel)",
   "language": "python",
   "name": "python3"
  },
  "language_info": {
   "codemirror_mode": {
    "name": "ipython",
    "version": 3
   },
   "file_extension": ".py",
   "mimetype": "text/x-python",
   "name": "python",
   "nbconvert_exporter": "python",
   "pygments_lexer": "ipython3",
   "version": "3.11.5"
  }
 },
 "nbformat": 4,
 "nbformat_minor": 5
}
